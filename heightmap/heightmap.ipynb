{
 "cells": [
  {
   "cell_type": "code",
   "execution_count": 1,
   "id": "abc2c806-a41b-4677-9f16-ce66d2fcf82d",
   "metadata": {},
   "outputs": [],
   "source": [
    "import os\n",
    "import geoutils as gu\n",
    "\n",
    "#from helpers import getV, getMH, make_affine_matrix, yield_map\n",
    "from helpers import getV, getMH, make_affine_matrix, yield_map, gen_heightmap, thicken, split_layer, tesselate_layer ,gen_fill, package_commands"
   ]
  },
  {
   "cell_type": "markdown",
   "id": "d3c71dec-256f-44ec-a563-027c707ade7e",
   "metadata": {},
   "source": [
    "# Parameters & Settings"
   ]
  },
  {
   "cell_type": "code",
   "execution_count": 2,
   "id": "7618673a-a92a-4b34-b3ab-5f0a4b21b5c3",
   "metadata": {},
   "outputs": [],
   "source": [
    "# Loading rasters\n",
    "\n",
    "fns = [fn for fn in os.listdir(\"data\") if fn.endswith(\".tif\")]\n",
    "rasters = sorted([gu.Raster(os.path.join(\"data\", fn)) for fn in fns], key=lambda r: r.bounds[:2])\n",
    "\n",
    "# Defining location of 2 points with precisely known longitudes and latitudes in both settings\n",
    "x0, z0 =  -170, -196\n",
    "x1, z1 = -1144,  284\n",
    "\n",
    "w0, h0 = 2533405,   1152605.5\n",
    "w1, h1 = 2532702.5, 1152259.5\n",
    "\n",
    "# Creating XZ transformation matrices (both ways)\n",
    "\n",
    "mX, hX = getMH(x0, w0, x1, w1)\n",
    "mZ, hZ = getMH(z0, h0, z1, h1)\n",
    "m2c = make_affine_matrix([mX, mZ], [hX, hZ])\n",
    "\n",
    "mX, hX = getMH(w0, x0, w1, x1)\n",
    "mZ, hZ = getMH(h0, z0, h1, z1)\n",
    "c2m = make_affine_matrix([mX, mZ], [hX, hZ])\n",
    "\n",
    "# Getting real-world altitude of 2 points with precisely known altitudes in both settings\n",
    "lonField, latField = 2534190, 1152375\n",
    "lonEspla, latEspla = 2533030, 1152475\n",
    "lonSorge, latSorge = 2533664, 1152563\n",
    "lonTalus, latTalus = 2534600, 1153270\n",
    "\n",
    "v0 = getV(rasters, lonField, latField)\n",
    "v1 = getV(rasters, lonTalus, latTalus)\n",
    "\n",
    "y0, y1 = 34.8, 66.8\n",
    "\n",
    "# Creating world-to-Minecraft Y transformation matrix\n",
    "\n",
    "mY, hY = getMH(v0, y0, v1, y1)\n",
    "mY, hY = 1.386821367789237, -488.2573682347112\n",
    "v2y = make_affine_matrix([mY], [hY])\n",
    "\n",
    "# Defining command text\n",
    "\n",
    "prefix = \"summon falling_block ~ ~1 ~ {Time:1,BlockState:{Name:redstone_block},Passengers:[\\\n",
    "{id:armor_stand,Health:0,Passengers:[\\\n",
    "{id:falling_block,Time:1,BlockState:{Name:activator_rail},Passengers:[\\\n",
    "{id:command_block_minecart,Command:'gamerule commandBlockOutput false'},\\\n",
    "{id:command_block_minecart,Command:'data merge block ~ ~-2 ~ {auto:0}'},\"\n",
    "\n",
    "template = \"{{id:command_block_minecart,Command:'{0}'}}\"\n",
    "\n",
    "fill_command = \"fill {0} {1} {2} {3} {4} {5} {6} {7} {8}\"\n",
    "\n",
    "clone_command = \"clone {0} {1} {2} {3} {4} {5} {6} {7} {8} {9} {10}\"\n",
    "\n",
    "suffix = \",{id:command_block_minecart,Command:'setblock ~ ~1 ~ command_block{auto:1,Command:\\\"fill ~ ~ ~ ~ ~-2 ~ air\\\"}'},\\\n",
    "{id:command_block_minecart,Command:'kill @e[type=command_block_minecart,distance=..1]'}]}]}]}\"\n",
    "\n",
    "strings = {\n",
    "    \"prefix\":        prefix,\n",
    "    \"template\":      template,\n",
    "    \"fill_command\":  fill_command,\n",
    "    \"clone_command\": clone_command,\n",
    "    \"suffix\":        suffix\n",
    "}"
   ]
  },
  {
   "cell_type": "markdown",
   "id": "19d2842a-eea3-4b58-8c4a-ed4a1692f874",
   "metadata": {},
   "source": [
    "# Command Generation"
   ]
  },
  {
   "cell_type": "code",
   "execution_count": 26,
   "id": "751b8e97-84b7-4b33-b626-ef4eaaa0485a",
   "metadata": {},
   "outputs": [
    {
     "data": {
      "text/plain": [
       "(-11, -9)"
      ]
     },
     "execution_count": 26,
     "metadata": {},
     "output_type": "execute_result"
    }
   ],
   "source": [
    "x, z = -1465, -1211\n",
    "xOut = (x + 64) // 128\n",
    "zOut = (z + 64) // 128\n",
    "xOut, zOut"
   ]
  },
  {
   "cell_type": "code",
   "execution_count": null,
   "id": "062f68a9-9d36-4b3e-841c-062fc51b698f",
   "metadata": {},
   "outputs": [],
   "source": [
    "xMap, zMap = -2, -9\n",
    "yield_map(rasters, strings, m2c, c2m, v2y, xMap, zMap)"
   ]
  },
  {
   "cell_type": "markdown",
   "id": "b291cf95-4b6c-4f4e-ad40-680980e8014b",
   "metadata": {},
   "source": [
    "# ML Optimization"
   ]
  },
  {
   "cell_type": "code",
   "execution_count": null,
   "id": "3d1aa7fb-c5a5-469e-beec-725668d8aba9",
   "metadata": {},
   "outputs": [],
   "source": [
    "import random\n",
    "\n",
    "import pyperclip as pc\n",
    "\n",
    "from scipy.optimize import curve_fit\n",
    "from IPython.display import clear_output"
   ]
  },
  {
   "cell_type": "code",
   "execution_count": null,
   "id": "056532ab-850e-4985-9819-77b264e231ad",
   "metadata": {},
   "outputs": [],
   "source": [
    "left, top = -1465, -1211\n",
    "right, bottom = 1728, 960"
   ]
  },
  {
   "cell_type": "code",
   "execution_count": null,
   "id": "0256492e-bac0-464d-a61b-15eb3dc661ca",
   "metadata": {},
   "outputs": [],
   "source": [
    "def random_tp(xz_list, left, right, top, bottom):\n",
    "    tp_command = \"/tp MCRaisin {0} 70 {1}\"\n",
    "    \n",
    "    try:\n",
    "        while True:\n",
    "            x = random.randrange(left, right)\n",
    "            z = random.randrange(top, bottom)\n",
    "            \n",
    "            xz_list.append((x, z))\n",
    "            \n",
    "            cmd = tp_command.format(x, z)\n",
    "            pc.copy(cmd)\n",
    "            print(cmd)\n",
    "            \n",
    "            input(\"Press Enter to store the next command in your clipboard...\")\n",
    "            clear_output(wait=True)\n",
    "    except KeyboardInterrupt:\n",
    "        pass"
   ]
  },
  {
   "cell_type": "code",
   "execution_count": null,
   "id": "af8e4026-8c7a-4555-86f9-a86206e72418",
   "metadata": {},
   "outputs": [],
   "source": [
    "plt.scatter(src, tgt)"
   ]
  },
  {
   "cell_type": "code",
   "execution_count": null,
   "id": "841d990f-14af-4b91-b88c-cb9e4908f490",
   "metadata": {},
   "outputs": [],
   "source": []
  },
  {
   "cell_type": "code",
   "execution_count": null,
   "id": "8ce32c20-ec82-44e8-be62-ccd750ca408c",
   "metadata": {},
   "outputs": [],
   "source": [
    "def get_alts(xz_list, y_list, m2c, rasters):\n",
    "    lonlat_list = convert_points(np.array(xz_list), m2c).tolist()\n",
    "    ret = []\n",
    "    \n",
    "    for lon, lat in lonlat_list:\n",
    "        v = getV(rasters, lon, lat)\n",
    "        ret.append(v)\n",
    "        \n",
    "    src_list = np.array(ret)\n",
    "    tgt_list = np.array(y_list)\n",
    "    \n",
    "    src_list = src_list[tgt_list != None]\n",
    "    tgt_list = tgt_list[tgt_list != None]\n",
    "    \n",
    "    return src_list, tgt_list\n",
    "        \n",
    "src, tgt = get_alts(xz_list, y_list, m2c, rasters)"
   ]
  },
  {
   "cell_type": "code",
   "execution_count": null,
   "id": "1fc75bc6-d69c-43f2-8b11-2a717a88e4d8",
   "metadata": {},
   "outputs": [],
   "source": [
    "# Finds a raster that matches a longitude and a latitude\n",
    "def find_raster(rasters, lon, lat):\n",
    "    for r in rasters:\n",
    "        if sum(fits_bb(r, lon, lat)) == 2:\n",
    "            return r\n",
    "        \n",
    "    return None\n",
    "\n",
    "# Returns the altitude of a point defined by its latitude and longitude\n",
    "def getV(rasters, lon, lat):\n",
    "    r = find_raster(rasters, lon, lat)\n",
    "    \n",
    "    if r is None:\n",
    "        return None\n",
    "    \n",
    "    return r.value_at_coords(lon, lat)"
   ]
  },
  {
   "cell_type": "code",
   "execution_count": null,
   "id": "1aeb68c7-f44c-4ee5-a777-e215d1e1b4bb",
   "metadata": {},
   "outputs": [],
   "source": [
    "# Transforms a whole set of points with a given matrix\n",
    "def convert_points(points, mat):\n",
    "    points = np.c_[ points, np.ones(points.shape[0])]\n",
    "    return np.matmul(mat, points.T)[:2].T"
   ]
  },
  {
   "cell_type": "code",
   "execution_count": null,
   "id": "3d195ef4-7deb-47ad-a37f-5486a69b098d",
   "metadata": {},
   "outputs": [],
   "source": [
    "points = np.array(xz_list)\n",
    "points.shape[0]"
   ]
  },
  {
   "cell_type": "code",
   "execution_count": null,
   "id": "a0101a09-3de2-41d7-957e-ca38e64f6653",
   "metadata": {},
   "outputs": [],
   "source": [
    "xz_list = [\n",
    "    (1043, -1099), (1240, -512),  (1416, -834),   (1437, -391),  (-100, 863),\n",
    "    (1412, -1118), (-1086, -195), (-78, -331),    (-1020, -107), (-1413, 927),\n",
    "    (141, -762),   (1132, 762),   (-520, -934),   (-1424, 926),  (-1262, 468),\n",
    "    (1485, -535),  (1070, -919),  (-1031, -565),  (-1377, 950),  (-1253, -934),\n",
    "    (-1219, -710), (144, 892),    (-726, -1182),  (-1035, 463),  (-1338, 341),\n",
    "    (-1104, -592), (-206, -1107), (1243, -13),    (-480, -252),  (792, -799),\n",
    "    (548, 542),    (-41, 27),     (995, -72),     (-581, -1176), (253, 302),\n",
    "    (1685, -655),  (1506, -291),  (-1326, -1137), (-131, -1194), (1232, -1014),\n",
    "    (383, -135),   (1226, -1068), (-72, -1037),   (506, 547),    (1226, -652),\n",
    "    (-201, -874),  (-23, 352),    (1548, -314),   (1364, -263),  (-894, 345),\n",
    "    (-792, 5),     (924, -315),   (1395, -419),   (1019, 145),   (156, 620),\n",
    "    (969, 897),    (-980, -858),  (-484, -741)\n",
    "]\n",
    "\n",
    "xz_list"
   ]
  },
  {
   "cell_type": "code",
   "execution_count": null,
   "id": "1f1049a9-9f3c-4a88-be27-67515b2353e0",
   "metadata": {},
   "outputs": [],
   "source": [
    "y_list = [\n",
    "    58, None, 55, None, 37,\n",
    "    66, 65, 51, None, 61,\n",
    "    60, None, 62, 61, 69,\n",
    "    46, 56, 69, 60, 94,\n",
    "    104, 32, 68, None, 69,\n",
    "    84, 64, 31, None, 52,\n",
    "    29, None, None, 62, 49,\n",
    "    53, 44, 85, 65, 56,\n",
    "    None, 57, 63, None, None,\n",
    "    61, 57, 46, None, None,\n",
    "    None, 44, None, None, 41,\n",
    "    None, 83, 53\n",
    "]\n",
    "\n",
    "len(y_list)"
   ]
  },
  {
   "cell_type": "code",
   "execution_count": null,
   "id": "6f80d628-30b3-4ec3-b801-b8c2f116a8e5",
   "metadata": {},
   "outputs": [],
   "source": [
    "print(len(xz_list))"
   ]
  },
  {
   "cell_type": "code",
   "execution_count": null,
   "id": "cf23eccc-9a5c-4b78-ad36-fc93cc8f5831",
   "metadata": {},
   "outputs": [],
   "source": [
    "xz_list = []"
   ]
  },
  {
   "cell_type": "code",
   "execution_count": null,
   "id": "b8a65d30-d052-464a-a43a-afd1917aa1c6",
   "metadata": {},
   "outputs": [],
   "source": [
    "random_tp(xz_list, left, right, top, bottom)"
   ]
  },
  {
   "cell_type": "code",
   "execution_count": null,
   "id": "7c1f9fa9-d60e-49aa-85ee-4e1a67fbb971",
   "metadata": {},
   "outputs": [],
   "source": [
    "coeffs, _ = curve_fit(objective, src, tgt)\n",
    "m, h = coeffs"
   ]
  },
  {
   "cell_type": "code",
   "execution_count": null,
   "id": "47d3bd3e-338c-4456-a407-6434e10876f8",
   "metadata": {},
   "outputs": [],
   "source": [
    "m, h"
   ]
  },
  {
   "cell_type": "code",
   "execution_count": null,
   "id": "4e3f0730-a28a-46b1-869f-38be95060cc9",
   "metadata": {},
   "outputs": [],
   "source": [
    "v2y = make_affine_matrix([m], [h])\n",
    "v2y"
   ]
  },
  {
   "cell_type": "code",
   "execution_count": null,
   "id": "a179a630-4cbf-467e-b8b3-2e8e33c376df",
   "metadata": {},
   "outputs": [],
   "source": [
    "x = random.randrange(left, right)\n",
    "z = random.randrange(top, bottom)"
   ]
  },
  {
   "cell_type": "code",
   "execution_count": null,
   "id": "76796af7-47f3-4aad-8f64-77f9bdbab4db",
   "metadata": {},
   "outputs": [],
   "source": [
    "def objective(x, m, h):\n",
    "    return m * x + h"
   ]
  },
  {
   "cell_type": "markdown",
   "id": "16295c05-9d49-4c93-9fa0-b37b5fe6b580",
   "metadata": {},
   "source": [
    "# New features"
   ]
  },
  {
   "cell_type": "code",
   "execution_count": null,
   "id": "8517d646-e716-42f0-a715-6ab6182a743c",
   "metadata": {},
   "outputs": [],
   "source": [
    "def load_ranges():\n",
    "    try:\n",
    "        with open(\"ranges.json\", \"r\") as f:\n",
    "            ranges = json.load(f)\n",
    "    except FileNotFoundError:\n",
    "        ranges = dict()\n",
    "        \n",
    "    return ranges\n",
    "\n",
    "def reset_ranges():\n",
    "    ranges = dict()\n",
    "    \n",
    "    with open(\"ranges.json\", \"w\") as f:\n",
    "        json.dump(ranges, f)\n",
    "    \n",
    "def save_range(pos, cmds, Y):\n",
    "    ranges = load_ranges()\n",
    "    x, z = pos\n",
    "    x, z = str(x), str(z)\n",
    "    y0, y1 = Y\n",
    "    \n",
    "    if ranges.get(x) is None:\n",
    "        ranges[x] = dict()\n",
    "    \n",
    "    ranges[x][z] = {\n",
    "        \"start\": int(y0),\n",
    "        \"end\": int(y1),\n",
    "        \"cmds\": cmds\n",
    "    }\n",
    "    \n",
    "    with open(\"ranges.json\", \"w\") as f:\n",
    "        json.dump(ranges, f)\n",
    "\n",
    "def mapTopLeft(mX, mZ):\n",
    "    return mX * 128 - 64, mZ * 128 - 64\n",
    "\n",
    "def package_commands(cmds, strings):\n",
    "    max_chars = 32500\n",
    "    prefix = strings[\"prefix\"]\n",
    "    suffix = strings[\"suffix\"]\n",
    "    \n",
    "    def_len = len(prefix) + len(suffix)\n",
    "    avail_space = max_chars - def_len\n",
    "    lens = [len(cmd) + 1 for cmd in cmds]\n",
    "    \n",
    "    idx = 0\n",
    "    batches = []\n",
    "    \n",
    "    while lens:\n",
    "        idx = (np.cumsum(lens) <= avail_space).argmin(0)\n",
    "        \n",
    "        if idx == 0:\n",
    "            idx = len(cmds)\n",
    "            \n",
    "        string = prefix + \",\".join(cmds[:idx]) + suffix\n",
    "        batches.append(string)\n",
    "        lens = lens[idx:]\n",
    "        cmds = cmds[idx:]\n",
    "        \n",
    "    for i, b in enumerate(batches):\n",
    "        input(\"Press Enter to store the next command in your clipboard...\")\n",
    "        pc.copy(b)\n",
    "        print(f\"Batch {i + 1} of {len(batches)}\")\n",
    "        \n",
    "def wipe_area(strings, pos, blocks, Y=None):\n",
    "    x, z = pos\n",
    "    \n",
    "    block_map = {\n",
    "        \"d\": \"diamond_block\",\n",
    "        \"g\": \"gold_block\"\n",
    "    }\n",
    "    \n",
    "    to_wipe = [v for k, v in block_map.items() if k in blocks]\n",
    "        \n",
    "    if Y is None:\n",
    "        print(\"A\")\n",
    "        try:\n",
    "            ranges = load_ranges()\n",
    "            y0, y1 = tuple(ranges[str(x)][str(z)].values())[:2]\n",
    "        except KeyError:\n",
    "            print(\"The area (\" + str(x) + \", \" + str(z) + \") has not been seen yet.\")\n",
    "            return\n",
    "    else:\n",
    "        print(\"B\")\n",
    "        y0, y1 = Y\n",
    "\n",
    "    x0, z0 = mapTopLeft(x, z)\n",
    "    cmds = [gen_fill(strings, (127, 127, x0, z0), Y=y, block0=\"air\", mode=\"replace\", block1=block) for y in range(y0, y1) for block in to_wipe]\n",
    "    package_commands(cmds, strings)"
   ]
  },
  {
   "cell_type": "code",
   "execution_count": null,
   "id": "c462a3e2-35b3-43a7-93f6-1d7ce381bfa1",
   "metadata": {},
   "outputs": [],
   "source": [
    "# Turns a Minecraft heightmap into a set of individual commands yielded as batches\n",
    "def cubify(arr, strings, shift=(0, 0)):\n",
    "    multilayer, Y0, depth = thicken(arr.T)\n",
    "    xShift, zShift = shift\n",
    "    cmds = []\n",
    "    \n",
    "    for y in range(depth):\n",
    "        layer = multilayer[..., y]\n",
    "        sublayers = split_layer(layer)\n",
    "        edges = []\n",
    "        \n",
    "        for (sub_layer, i, j) in sublayers:\n",
    "            edges += tesselate_layer(sub_layer, i, j, xShift, zShift)\n",
    "            \n",
    "        cmds += [gen_fill(strings, elem, Y0 + y, \"diamond_block\", mode=\"keep\") for elem in edges]\n",
    "    \n",
    "    package_commands(cmds, strings)\n",
    "    \n",
    "    return cmds, (Y0, Y0 + depth)"
   ]
  },
  {
   "cell_type": "code",
   "execution_count": null,
   "id": "b9decebf-d4ea-42eb-ad0d-4d1914d0e719",
   "metadata": {},
   "outputs": [],
   "source": [
    "def yield_map(rasters, strings, m2c, c2m, v2y, xMap, zMap, overwrite=False):\n",
    "    xS, zS = mapTopLeft(xMap, zMap)\n",
    "    arr = gen_heightmap(rasters, m2c, c2m, v2y, xS, zS)\n",
    "    cmds, Y = cubify(arr, strings, shift=(xS, zS))\n",
    "    save_range((xMap, zMap), cmds, Y)"
   ]
  },
  {
   "cell_type": "code",
   "execution_count": null,
   "id": "4f492536-8443-4d54-b7f1-51d86fc7ba85",
   "metadata": {},
   "outputs": [],
   "source": [
    "from helpers import gen_fill\n",
    "import pyperclip as pc\n",
    "import numpy as np\n",
    "import json\n",
    "from matplotlib import pyplot as plt"
   ]
  },
  {
   "cell_type": "code",
   "execution_count": null,
   "id": "7b7b2567-f4cc-4723-b98b-c5edf2644795",
   "metadata": {},
   "outputs": [],
   "source": [
    "wipe_area(strings, (1, -2), \"dg\")"
   ]
  },
  {
   "cell_type": "code",
   "execution_count": null,
   "id": "1a7da8dd-158f-464a-99fe-fb40cd5fff03",
   "metadata": {},
   "outputs": [],
   "source": [
    "ranges = {\n",
    "    np.int32(4) : 2\n",
    "}\n",
    "    \n",
    "with open(\"temp.json\", \"w\") as f:\n",
    "    json.dump(ranges, f)"
   ]
  },
  {
   "cell_type": "code",
   "execution_count": null,
   "id": "e1f31151-2d5c-4805-99a7-b11e3024e044",
   "metadata": {},
   "outputs": [],
   "source": [
    "np.int32(4)"
   ]
  },
  {
   "cell_type": "code",
   "execution_count": null,
   "id": "a6e4e556-6ecf-4bd9-bdc2-3a0054cc10bf",
   "metadata": {},
   "outputs": [],
   "source": [
    "x0, z0 = mapTopLeft(1, -2)\n",
    "y0, y1 = 24, 70\n",
    "cmds = [gen_fill(strings, (127, 127, x0, z0), Y=y, block0=\"air\", mode=\"replace\", block1=\"diamond_block\") for y in range(y0, y1)]\n",
    "package_commands(cmds, strings)"
   ]
  }
 ],
 "metadata": {
  "kernelspec": {
   "display_name": "polycraft",
   "language": "python",
   "name": "polycraft"
  },
  "language_info": {
   "codemirror_mode": {
    "name": "ipython",
    "version": 3
   },
   "file_extension": ".py",
   "mimetype": "text/x-python",
   "name": "python",
   "nbconvert_exporter": "python",
   "pygments_lexer": "ipython3",
   "version": "3.8.12"
  }
 },
 "nbformat": 4,
 "nbformat_minor": 5
}
