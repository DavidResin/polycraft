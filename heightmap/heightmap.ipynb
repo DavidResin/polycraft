{
 "cells": [
  {
   "cell_type": "code",
   "execution_count": 1,
   "id": "abc2c806-a41b-4677-9f16-ce66d2fcf82d",
   "metadata": {},
   "outputs": [],
   "source": [
    "import os\n",
    "import geoutils as gu\n",
    "\n",
    "#from helpers import getV, getMH, make_affine_matrix, yield_map\n",
    "from helpers import getV, getMH, make_affine_matrix, yield_map, gen_heightmap, thicken, split_layer, tesselate_layer ,gen_fill, package_commands"
   ]
  },
  {
   "cell_type": "markdown",
   "id": "d3c71dec-256f-44ec-a563-027c707ade7e",
   "metadata": {},
   "source": [
    "# Parameters & Settings"
   ]
  },
  {
   "cell_type": "code",
   "execution_count": 2,
   "id": "7618673a-a92a-4b34-b3ab-5f0a4b21b5c3",
   "metadata": {},
   "outputs": [],
   "source": [
    "# Loading rasters\n",
    "\n",
    "fns = [fn for fn in os.listdir(\"data\") if fn.endswith(\".tif\")]\n",
    "rasters = sorted([gu.Raster(os.path.join(\"data\", fn)) for fn in fns], key=lambda r: r.bounds[:2])\n",
    "\n",
    "# Defining location of 2 points with precisely known longitudes and latitudes in both settings\n",
    "x0, z0 =  -170, -196\n",
    "x1, z1 = -1144,  284\n",
    "\n",
    "w0, h0 = 2533405,   1152605.5\n",
    "w1, h1 = 2532702.5, 1152259.5\n",
    "\n",
    "# Creating XZ transformation matrices (both ways)\n",
    "\n",
    "mX, hX = getMH(x0, w0, x1, w1)\n",
    "mZ, hZ = getMH(z0, h0, z1, h1)\n",
    "m2c = make_affine_matrix([mX, mZ], [hX, hZ])\n",
    "\n",
    "mX, hX = getMH(w0, x0, w1, x1)\n",
    "mZ, hZ = getMH(h0, z0, h1, z1)\n",
    "c2m = make_affine_matrix([mX, mZ], [hX, hZ])\n",
    "\n",
    "# Getting real-world altitude of 2 points with precisely known altitudes in both settings\n",
    "lonField, latField = 2534190, 1152375\n",
    "lonEspla, latEspla = 2533030, 1152475\n",
    "\n",
    "v0 = getV(rasters, lonField, latField)\n",
    "v1 = getV(rasters, lonEspla, latEspla)\n",
    "\n",
    "y0, y1 = 35, 67\n",
    "\n",
    "# Creating world-to-Minecraft Y transformation matrix\n",
    "\n",
    "mY, hY = getMH(v0, y0, v1, y1)\n",
    "v2y = make_affine_matrix([mY], [hY])\n",
    "\n",
    "# Defining command text\n",
    "\n",
    "prefix = \"summon falling_block ~ ~1 ~ {Time:1,BlockState:{Name:redstone_block},Passengers:[\\\n",
    "{id:armor_stand,Health:0,Passengers:[\\\n",
    "{id:falling_block,Time:1,BlockState:{Name:activator_rail},Passengers:[\\\n",
    "{id:command_block_minecart,Command:'gamerule commandBlockOutput false'},\\\n",
    "{id:command_block_minecart,Command:'data merge block ~ ~-2 ~ {auto:0}'},\"\n",
    "\n",
    "template = \"{{id:command_block_minecart,Command:'{0}'}}\"\n",
    "\n",
    "fill_command = \"fill {0} {1} {2} {3} {4} {5} {6} {7} {8}\"\n",
    "\n",
    "clone_command = \"clone {0} {1} {2} {3} {4} {5} {6} {7} {8} {9} {10}\"\n",
    "\n",
    "suffix = \",{id:command_block_minecart,Command:'setblock ~ ~1 ~ command_block{auto:1,Command:\\\"fill ~ ~ ~ ~ ~-2 ~ air\\\"}'},\\\n",
    "{id:command_block_minecart,Command:'kill @e[type=command_block_minecart,distance=..1]'}]}]}]}\"\n",
    "\n",
    "strings = {\n",
    "    \"prefix\":        prefix,\n",
    "    \"template\":      template,\n",
    "    \"fill_command\":  fill_command,\n",
    "    \"clone_command\": clone_command,\n",
    "    \"suffix\":        suffix\n",
    "}"
   ]
  },
  {
   "cell_type": "markdown",
   "id": "19d2842a-eea3-4b58-8c4a-ed4a1692f874",
   "metadata": {},
   "source": [
    "# Command Generation"
   ]
  },
  {
   "cell_type": "code",
   "execution_count": 38,
   "id": "8ecc39a0-a1d7-4e72-a88d-2db4b69dbfd2",
   "metadata": {},
   "outputs": [
    {
     "name": "stdin",
     "output_type": "stream",
     "text": [
      "Press Enter to store the next command in your clipboard... \n"
     ]
    },
    {
     "name": "stdout",
     "output_type": "stream",
     "text": [
      "Batch 1 of 2\n"
     ]
    },
    {
     "name": "stdin",
     "output_type": "stream",
     "text": [
      "Press Enter to store the next command in your clipboard... \n"
     ]
    },
    {
     "name": "stdout",
     "output_type": "stream",
     "text": [
      "Batch 2 of 2\n"
     ]
    }
   ],
   "source": [
    "xMap, zMap = 0, 0\n",
    "yield_map(rasters, strings, m2c, c2m, v2y, xMap, zMap)"
   ]
  },
  {
   "cell_type": "markdown",
   "id": "16295c05-9d49-4c93-9fa0-b37b5fe6b580",
   "metadata": {},
   "source": [
    "# New features"
   ]
  },
  {
   "cell_type": "code",
   "execution_count": 37,
   "id": "8517d646-e716-42f0-a715-6ab6182a743c",
   "metadata": {},
   "outputs": [],
   "source": [
    "def load_ranges():\n",
    "    try:\n",
    "        with open(\"ranges.json\", \"r\") as f:\n",
    "            ranges = json.load(f)\n",
    "    except FileNotFoundError:\n",
    "        ranges = dict()\n",
    "        \n",
    "    return ranges\n",
    "\n",
    "def reset_ranges():\n",
    "    ranges = dict()\n",
    "    \n",
    "    with open(\"ranges.json\", \"w\") as f:\n",
    "        json.dump(ranges, f)\n",
    "    \n",
    "def save_range(pos, cmds, Y):\n",
    "    ranges = load_ranges()\n",
    "    x, z = pos\n",
    "    x, z = str(x), str(z)\n",
    "    y0, y1 = Y\n",
    "    \n",
    "    if ranges.get(x) is None:\n",
    "        ranges[x] = dict()\n",
    "    \n",
    "    ranges[x][z] = {\n",
    "        \"start\": int(y0),\n",
    "        \"end\": int(y1),\n",
    "        \"cmds\": cmds\n",
    "    }\n",
    "    \n",
    "    with open(\"ranges.json\", \"w\") as f:\n",
    "        json.dump(ranges, f)\n",
    "\n",
    "def mapTopLeft(mX, mZ):\n",
    "    return mX * 128 - 64, mZ * 128 - 64\n",
    "\n",
    "def package_commands(cmds, strings):\n",
    "    max_chars = 32500\n",
    "    prefix = strings[\"prefix\"]\n",
    "    suffix = strings[\"suffix\"]\n",
    "    \n",
    "    def_len = len(prefix) + len(suffix)\n",
    "    avail_space = max_chars - def_len\n",
    "    lens = [len(cmd) + 1 for cmd in cmds]\n",
    "    \n",
    "    idx = 0\n",
    "    batches = []\n",
    "    \n",
    "    while lens:\n",
    "        idx = (np.cumsum(lens) <= avail_space).argmin(0)\n",
    "        \n",
    "        if idx == 0:\n",
    "            idx = len(cmds)\n",
    "            \n",
    "        string = prefix + \",\".join(cmds[:idx]) + suffix\n",
    "        batches.append(string)\n",
    "        lens = lens[idx:]\n",
    "        cmds = cmds[idx:]\n",
    "        \n",
    "    for i, b in enumerate(batches):\n",
    "        input(\"Press Enter to store the next command in your clipboard...\")\n",
    "        pc.copy(b)\n",
    "        print(f\"Batch {i + 1} of {len(batches)}\")\n",
    "        \n",
    "def wipe_area(strings, pos, blocks, Y=None):\n",
    "    x, z = pos\n",
    "    \n",
    "    block_map = {\n",
    "        \"d\": \"diamond_block\",\n",
    "        \"g\": \"gold_block\"\n",
    "    }\n",
    "    \n",
    "    to_wipe = [v for k, v in block_map.items() if k in blocks]\n",
    "        \n",
    "    if Y is None:\n",
    "        print(\"A\")\n",
    "        try:\n",
    "            ranges = load_ranges()\n",
    "            y0, y1 = tuple(ranges[str(x)][str(z)].values())[:2]\n",
    "        except KeyError:\n",
    "            print(\"The area (\" + str(x) + \", \" + str(z) + \") has not been seen yet.\")\n",
    "            return\n",
    "    else:\n",
    "        print(\"B\")\n",
    "        y0, y1 = Y\n",
    "\n",
    "    x0, z0 = mapTopLeft(x, z)\n",
    "    cmds = [gen_fill(strings, (127, 127, x0, z0), Y=y, block0=\"air\", mode=\"replace\", block1=block) for y in range(y0, y1) for block in to_wipe]\n",
    "    package_commands(cmds, strings)"
   ]
  },
  {
   "cell_type": "code",
   "execution_count": 5,
   "id": "c462a3e2-35b3-43a7-93f6-1d7ce381bfa1",
   "metadata": {},
   "outputs": [],
   "source": [
    "# Turns a Minecraft heightmap into a set of individual commands yielded as batches\n",
    "def cubify(arr, strings, shift=(0, 0)):\n",
    "    multilayer, Y0, depth = thicken(arr.T)\n",
    "    xShift, zShift = shift\n",
    "    cmds = []\n",
    "    \n",
    "    for y in range(depth):\n",
    "        layer = multilayer[..., y]\n",
    "        sublayers = split_layer(layer)\n",
    "        edges = []\n",
    "        \n",
    "        for (sub_layer, i, j) in sublayers:\n",
    "            edges += tesselate_layer(sub_layer, i, j, xShift, zShift)\n",
    "            \n",
    "        cmds += [gen_fill(strings, elem, Y0 + y, \"diamond_block\", mode=\"keep\") for elem in edges]\n",
    "    \n",
    "    package_commands(cmds, strings)\n",
    "    \n",
    "    return cmds, (Y0, Y0 + depth)"
   ]
  },
  {
   "cell_type": "code",
   "execution_count": 36,
   "id": "b9decebf-d4ea-42eb-ad0d-4d1914d0e719",
   "metadata": {},
   "outputs": [],
   "source": [
    "def yield_map(rasters, strings, m2c, c2m, v2y, xMap, zMap, overwrite=False):\n",
    "    xS, zS = mapTopLeft(xMap, zMap)\n",
    "    arr = gen_heightmap(rasters, m2c, c2m, v2y, xS, zS)\n",
    "    cmds, Y = cubify(arr, strings, shift=(xS, zS))\n",
    "    save_range((xMap, zMap), cmds, Y)"
   ]
  },
  {
   "cell_type": "code",
   "execution_count": 4,
   "id": "4f492536-8443-4d54-b7f1-51d86fc7ba85",
   "metadata": {},
   "outputs": [],
   "source": [
    "from helpers import gen_fill\n",
    "import pyperclip as pc\n",
    "import numpy as np\n",
    "import json\n",
    "from matplotlib import pyplot as plt"
   ]
  },
  {
   "cell_type": "code",
   "execution_count": null,
   "id": "7b7b2567-f4cc-4723-b98b-c5edf2644795",
   "metadata": {},
   "outputs": [],
   "source": [
    "wipe_area(strings, (1, 2), \"dg\")"
   ]
  },
  {
   "cell_type": "code",
   "execution_count": 15,
   "id": "1a7da8dd-158f-464a-99fe-fb40cd5fff03",
   "metadata": {},
   "outputs": [
    {
     "ename": "TypeError",
     "evalue": "keys must be str, int, float, bool or None, not int32",
     "output_type": "error",
     "traceback": [
      "\u001b[1;31m---------------------------------------------------------------------------\u001b[0m",
      "\u001b[1;31mTypeError\u001b[0m                                 Traceback (most recent call last)",
      "\u001b[1;32m~\\AppData\\Local\\Temp/ipykernel_4792/1983466610.py\u001b[0m in \u001b[0;36m<module>\u001b[1;34m\u001b[0m\n\u001b[0;32m      4\u001b[0m \u001b[1;33m\u001b[0m\u001b[0m\n\u001b[0;32m      5\u001b[0m \u001b[1;32mwith\u001b[0m \u001b[0mopen\u001b[0m\u001b[1;33m(\u001b[0m\u001b[1;34m\"temp.json\"\u001b[0m\u001b[1;33m,\u001b[0m \u001b[1;34m\"w\"\u001b[0m\u001b[1;33m)\u001b[0m \u001b[1;32mas\u001b[0m \u001b[0mf\u001b[0m\u001b[1;33m:\u001b[0m\u001b[1;33m\u001b[0m\u001b[1;33m\u001b[0m\u001b[0m\n\u001b[1;32m----> 6\u001b[1;33m     \u001b[0mjson\u001b[0m\u001b[1;33m.\u001b[0m\u001b[0mdump\u001b[0m\u001b[1;33m(\u001b[0m\u001b[0mranges\u001b[0m\u001b[1;33m,\u001b[0m \u001b[0mf\u001b[0m\u001b[1;33m)\u001b[0m\u001b[1;33m\u001b[0m\u001b[1;33m\u001b[0m\u001b[0m\n\u001b[0m",
      "\u001b[1;32m~\\anaconda3\\envs\\polycraft\\lib\\json\\__init__.py\u001b[0m in \u001b[0;36mdump\u001b[1;34m(obj, fp, skipkeys, ensure_ascii, check_circular, allow_nan, cls, indent, separators, default, sort_keys, **kw)\u001b[0m\n\u001b[0;32m    177\u001b[0m     \u001b[1;31m# could accelerate with writelines in some versions of Python, at\u001b[0m\u001b[1;33m\u001b[0m\u001b[1;33m\u001b[0m\u001b[1;33m\u001b[0m\u001b[0m\n\u001b[0;32m    178\u001b[0m     \u001b[1;31m# a debuggability cost\u001b[0m\u001b[1;33m\u001b[0m\u001b[1;33m\u001b[0m\u001b[1;33m\u001b[0m\u001b[0m\n\u001b[1;32m--> 179\u001b[1;33m     \u001b[1;32mfor\u001b[0m \u001b[0mchunk\u001b[0m \u001b[1;32min\u001b[0m \u001b[0miterable\u001b[0m\u001b[1;33m:\u001b[0m\u001b[1;33m\u001b[0m\u001b[1;33m\u001b[0m\u001b[0m\n\u001b[0m\u001b[0;32m    180\u001b[0m         \u001b[0mfp\u001b[0m\u001b[1;33m.\u001b[0m\u001b[0mwrite\u001b[0m\u001b[1;33m(\u001b[0m\u001b[0mchunk\u001b[0m\u001b[1;33m)\u001b[0m\u001b[1;33m\u001b[0m\u001b[1;33m\u001b[0m\u001b[0m\n\u001b[0;32m    181\u001b[0m \u001b[1;33m\u001b[0m\u001b[0m\n",
      "\u001b[1;32m~\\anaconda3\\envs\\polycraft\\lib\\json\\encoder.py\u001b[0m in \u001b[0;36m_iterencode\u001b[1;34m(o, _current_indent_level)\u001b[0m\n\u001b[0;32m    429\u001b[0m             \u001b[1;32myield\u001b[0m \u001b[1;32mfrom\u001b[0m \u001b[0m_iterencode_list\u001b[0m\u001b[1;33m(\u001b[0m\u001b[0mo\u001b[0m\u001b[1;33m,\u001b[0m \u001b[0m_current_indent_level\u001b[0m\u001b[1;33m)\u001b[0m\u001b[1;33m\u001b[0m\u001b[1;33m\u001b[0m\u001b[0m\n\u001b[0;32m    430\u001b[0m         \u001b[1;32melif\u001b[0m \u001b[0misinstance\u001b[0m\u001b[1;33m(\u001b[0m\u001b[0mo\u001b[0m\u001b[1;33m,\u001b[0m \u001b[0mdict\u001b[0m\u001b[1;33m)\u001b[0m\u001b[1;33m:\u001b[0m\u001b[1;33m\u001b[0m\u001b[1;33m\u001b[0m\u001b[0m\n\u001b[1;32m--> 431\u001b[1;33m             \u001b[1;32myield\u001b[0m \u001b[1;32mfrom\u001b[0m \u001b[0m_iterencode_dict\u001b[0m\u001b[1;33m(\u001b[0m\u001b[0mo\u001b[0m\u001b[1;33m,\u001b[0m \u001b[0m_current_indent_level\u001b[0m\u001b[1;33m)\u001b[0m\u001b[1;33m\u001b[0m\u001b[1;33m\u001b[0m\u001b[0m\n\u001b[0m\u001b[0;32m    432\u001b[0m         \u001b[1;32melse\u001b[0m\u001b[1;33m:\u001b[0m\u001b[1;33m\u001b[0m\u001b[1;33m\u001b[0m\u001b[0m\n\u001b[0;32m    433\u001b[0m             \u001b[1;32mif\u001b[0m \u001b[0mmarkers\u001b[0m \u001b[1;32mis\u001b[0m \u001b[1;32mnot\u001b[0m \u001b[1;32mNone\u001b[0m\u001b[1;33m:\u001b[0m\u001b[1;33m\u001b[0m\u001b[1;33m\u001b[0m\u001b[0m\n",
      "\u001b[1;32m~\\anaconda3\\envs\\polycraft\\lib\\json\\encoder.py\u001b[0m in \u001b[0;36m_iterencode_dict\u001b[1;34m(dct, _current_indent_level)\u001b[0m\n\u001b[0;32m    374\u001b[0m                 \u001b[1;32mcontinue\u001b[0m\u001b[1;33m\u001b[0m\u001b[1;33m\u001b[0m\u001b[0m\n\u001b[0;32m    375\u001b[0m             \u001b[1;32melse\u001b[0m\u001b[1;33m:\u001b[0m\u001b[1;33m\u001b[0m\u001b[1;33m\u001b[0m\u001b[0m\n\u001b[1;32m--> 376\u001b[1;33m                 raise TypeError(f'keys must be str, int, float, bool or None, '\n\u001b[0m\u001b[0;32m    377\u001b[0m                                 f'not {key.__class__.__name__}')\n\u001b[0;32m    378\u001b[0m             \u001b[1;32mif\u001b[0m \u001b[0mfirst\u001b[0m\u001b[1;33m:\u001b[0m\u001b[1;33m\u001b[0m\u001b[1;33m\u001b[0m\u001b[0m\n",
      "\u001b[1;31mTypeError\u001b[0m: keys must be str, int, float, bool or None, not int32"
     ]
    }
   ],
   "source": [
    "ranges = {\n",
    "    np.int32(4) : 2\n",
    "}\n",
    "    \n",
    "with open(\"temp.json\", \"w\") as f:\n",
    "    json.dump(ranges, f)"
   ]
  },
  {
   "cell_type": "code",
   "execution_count": 13,
   "id": "e1f31151-2d5c-4805-99a7-b11e3024e044",
   "metadata": {},
   "outputs": [
    {
     "data": {
      "text/plain": [
       "4"
      ]
     },
     "execution_count": 13,
     "metadata": {},
     "output_type": "execute_result"
    }
   ],
   "source": [
    "np.int32(4)"
   ]
  }
 ],
 "metadata": {
  "kernelspec": {
   "display_name": "polycraft",
   "language": "python",
   "name": "polycraft"
  },
  "language_info": {
   "codemirror_mode": {
    "name": "ipython",
    "version": 3
   },
   "file_extension": ".py",
   "mimetype": "text/x-python",
   "name": "python",
   "nbconvert_exporter": "python",
   "pygments_lexer": "ipython3",
   "version": "3.8.12"
  }
 },
 "nbformat": 4,
 "nbformat_minor": 5
}
